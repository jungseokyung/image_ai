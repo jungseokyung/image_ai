{
 "cells": [
  {
   "cell_type": "code",
   "execution_count": 1,
   "id": "6687b0dc",
   "metadata": {},
   "outputs": [
    {
     "name": "stdout",
     "output_type": "stream",
     "text": [
      "Collecting opencv-python\n",
      "  Downloading opencv_python-4.5.2.54-cp38-cp38-win_amd64.whl (34.7 MB)\n",
      "Requirement already satisfied: numpy>=1.17.3 in c:\\users\\jungsk\\anaconda3\\envs\\study\\lib\\site-packages (from opencv-python) (1.20.2)\n",
      "Installing collected packages: opencv-python\n",
      "Successfully installed opencv-python-4.5.2.54\n",
      "Note: you may need to restart the kernel to use updated packages.\n"
     ]
    }
   ],
   "source": [
    "pip install opencv-python"
   ]
  },
  {
   "cell_type": "markdown",
   "id": "cefd5a83",
   "metadata": {},
   "source": [
    "## 얼굴 인식"
   ]
  },
  {
   "cell_type": "code",
   "execution_count": 14,
   "id": "6b324355",
   "metadata": {
    "scrolled": true
   },
   "outputs": [
    {
     "data": {
      "text/plain": [
       "-1"
      ]
     },
     "execution_count": 14,
     "metadata": {},
     "output_type": "execute_result"
    }
   ],
   "source": [
    "import cv2\n",
    "\n",
    "casacade_filename= 'haarcascade_frontalface_alt.xml'\n",
    "\n",
    "casacde = cv2.CascadeClassifier(casacade_filename)\n",
    "\n",
    "img = cv2.imread('sample.jpg')\n",
    "\n",
    "# 사진 출력\n",
    "def imgDetector(img,cascade):\n",
    "\n",
    "    img = cv2.resize(img,dsize=None,fx=0.5,fy=0.5)\n",
    "    gray = cv2.cvtColor(img, cv2.COLOR_BGR2GRAY)\n",
    "    \n",
    "    return img,gray\n",
    "\n",
    "img,gray=imgDetector(img,casacde)\n",
    "\n",
    "# cascade 얼굴 탐지 알고리즘 \n",
    "results = casacde.detectMultiScale(gray,            # 입력 이미지\n",
    "                                   scaleFactor= 1.5,# 이미지 피라미드 스케일 factor\n",
    "                                   minNeighbors=5,  # 인접 객체 최소 거리 픽셀\n",
    "                                   minSize=(20,20)  # 탐지 객체 최소 크기\n",
    "                                   )        \n",
    "                                   \n",
    "# 결과값 = 탐지된 객체의 경계상자 list                                                                           \n",
    "for box in results:\n",
    "    # 좌표 추출       \n",
    "    x, y, w, h = box\n",
    "    # 경계 상자 그리기\n",
    "    cv2.rectangle(img, (x,y), (x+w, y+h), (255,255,255), thickness=2)\n",
    "    \n",
    "    \n",
    "cv2.imshow('facent',img)\n",
    "cv2.waitKey(10000)"
   ]
  },
  {
   "cell_type": "markdown",
   "id": "c587a1a7",
   "metadata": {},
   "source": [
    "## haarcascade_frontface 사용 - 얼굴 없어도 오류 안남"
   ]
  },
  {
   "cell_type": "code",
   "execution_count": 6,
   "id": "1be2cc4d",
   "metadata": {},
   "outputs": [],
   "source": [
    "import numpy as np\n",
    "import cv2\n",
    "from matplotlib import pyplot as plt\n",
    "face_cascade = cv2.CascadeClassifier('haarcascade_frontface.xml')\n",
    "#eye_cascade = cv2.CascadeClassifier('haarcascade_eye.xml')\n",
    "img = cv2.imread('sample.jpg')\n",
    "gray = cv2.cvtColor(img, cv2.COLOR_BGR2GRAY)"
   ]
  },
  {
   "cell_type": "code",
   "execution_count": 7,
   "id": "5cba0fd1",
   "metadata": {},
   "outputs": [],
   "source": [
    "faces = face_cascade.detectMultiScale(gray, 1.3, 5)\n",
    "for (x,y,w,h) in faces:\n",
    "    cv2.rectangle(img,(x,y),(x+w,y+h),(255,0,0),2)\n",
    "    roi_gray = gray[y:y+h, x:x+w]\n",
    "    roi_color = img[y:y+h, x:x+w]\n",
    "#    eyes = eye_cascade.detectMultiScale(roi_gray)\n",
    "#    for (ex,ey,ew,eh) in eyes:\n",
    "#        cv2.rectangle(roi_color,(ex,ey),(ex+ew,ey+eh),(0,255,0),2)\n",
    "cv2.imshow('img',img)\n",
    "cv2.waitKey(0)\n",
    "cv2.destroyAllWindows()"
   ]
  },
  {
   "cell_type": "markdown",
   "id": "580dbf7a",
   "metadata": {},
   "source": [
    "##  얼굴 인식 : haarcascade_frontalface_default 사용"
   ]
  },
  {
   "cell_type": "code",
   "execution_count": 5,
   "id": "68fe3c53",
   "metadata": {},
   "outputs": [
    {
     "ename": "SystemError",
     "evalue": "<class 'cv2.CascadeClassifier'> returned a result with an error set",
     "output_type": "error",
     "traceback": [
      "\u001b[1;31m---------------------------------------------------------------------------\u001b[0m",
      "\u001b[1;31merror\u001b[0m                                     Traceback (most recent call last)",
      "\u001b[1;31merror\u001b[0m: OpenCV(4.5.2) C:\\Users\\runneradmin\\AppData\\Local\\Temp\\pip-req-build-_8k9tw8n\\opencv\\modules\\core\\src\\persistence.cpp:717: error: (-49:Unknown error code -49) Input file is invalid in function 'cv::FileStorage::Impl::open'\n",
      "\nThe above exception was the direct cause of the following exception:\n",
      "\u001b[1;31mSystemError\u001b[0m                               Traceback (most recent call last)",
      "\u001b[1;32m<ipython-input-5-f87b26291e9e>\u001b[0m in \u001b[0;36m<module>\u001b[1;34m\u001b[0m\n\u001b[0;32m     56\u001b[0m     \u001b[0mcv2\u001b[0m\u001b[1;33m.\u001b[0m\u001b[0mdestroyAllWindows\u001b[0m\u001b[1;33m(\u001b[0m\u001b[1;33m)\u001b[0m\u001b[1;33m\u001b[0m\u001b[1;33m\u001b[0m\u001b[0m\n\u001b[0;32m     57\u001b[0m \u001b[1;33m\u001b[0m\u001b[0m\n\u001b[1;32m---> 58\u001b[1;33m \u001b[0mfaceDetect\u001b[0m\u001b[1;33m(\u001b[0m\u001b[1;33m)\u001b[0m\u001b[1;33m\u001b[0m\u001b[1;33m\u001b[0m\u001b[0m\n\u001b[0m",
      "\u001b[1;32m<ipython-input-5-f87b26291e9e>\u001b[0m in \u001b[0;36mfaceDetect\u001b[1;34m()\u001b[0m\n\u001b[0;32m      7\u001b[0m \u001b[1;32mdef\u001b[0m \u001b[0mfaceDetect\u001b[0m\u001b[1;33m(\u001b[0m\u001b[1;33m)\u001b[0m\u001b[1;33m:\u001b[0m\u001b[1;33m\u001b[0m\u001b[1;33m\u001b[0m\u001b[0m\n\u001b[0;32m      8\u001b[0m     \u001b[0meye_detect\u001b[0m \u001b[1;33m=\u001b[0m \u001b[1;32mFalse\u001b[0m\u001b[1;33m\u001b[0m\u001b[1;33m\u001b[0m\u001b[0m\n\u001b[1;32m----> 9\u001b[1;33m     \u001b[0mface_cascade\u001b[0m \u001b[1;33m=\u001b[0m \u001b[0mcv2\u001b[0m\u001b[1;33m.\u001b[0m\u001b[0mCascadeClassifier\u001b[0m\u001b[1;33m(\u001b[0m\u001b[1;34m\"haarcascade_frontalface_default.xml\"\u001b[0m\u001b[1;33m)\u001b[0m  \u001b[1;31m# 얼굴찾기 haar 파일\u001b[0m\u001b[1;33m\u001b[0m\u001b[1;33m\u001b[0m\u001b[0m\n\u001b[0m\u001b[0;32m     10\u001b[0m     \u001b[0mface_cascade\u001b[0m \u001b[1;33m=\u001b[0m \u001b[0mcv2\u001b[0m\u001b[1;33m.\u001b[0m\u001b[0mCascadeClassifier\u001b[0m\u001b[1;33m(\u001b[0m\u001b[1;34m\"haarcascade_frontalface.xml\"\u001b[0m\u001b[1;33m)\u001b[0m  \u001b[1;31m# 얼굴찾기 haar 파일\u001b[0m\u001b[1;33m\u001b[0m\u001b[1;33m\u001b[0m\u001b[0m\n\u001b[0;32m     11\u001b[0m     \u001b[0meye_cascade\u001b[0m \u001b[1;33m=\u001b[0m \u001b[0mcv2\u001b[0m\u001b[1;33m.\u001b[0m\u001b[0mCascadeClassifier\u001b[0m\u001b[1;33m(\u001b[0m\u001b[1;34m\"haarcascade_eye.xml\"\u001b[0m\u001b[1;33m)\u001b[0m \u001b[1;31m# 눈찾기 haar 파일\u001b[0m\u001b[1;33m\u001b[0m\u001b[1;33m\u001b[0m\u001b[0m\n",
      "\u001b[1;31mSystemError\u001b[0m: <class 'cv2.CascadeClassifier'> returned a result with an error set"
     ]
    }
   ],
   "source": [
    "## -*- coding: utf-8 -*-  # 한글 주석쓸려면 적기\n",
    " \n",
    "import cv2\n",
    " \n",
    "font = cv2.FONT_ITALIC\n",
    " \n",
    "def faceDetect():\n",
    "    eye_detect = False\n",
    "    face_cascade = cv2.CascadeClassifier(\"haarcascade_frontalface_default.xml\")  # 얼굴찾기 haar 파일\n",
    "    face_cascade = cv2.CascadeClassifier(\"haarcascade_frontalface.xml\")  # 얼굴찾기 haar 파일\n",
    "    eye_cascade = cv2.CascadeClassifier(\"haarcascade_eye.xml\") # 눈찾기 haar 파일\n",
    " \n",
    "    try:\n",
    "        cam = cv2.VideoCapture(0)\n",
    "    except:\n",
    "        print(\"camera loading error\")\n",
    "        return\n",
    " \n",
    "    while True:\n",
    "        ret, frame = cam.read()\n",
    "        if not ret:\n",
    "            break\n",
    " \n",
    "        if eye_detect:\n",
    "            info = \"Eye Detention ON\"\n",
    "        else:\n",
    "            info = \"Eye Detection OFF\"\n",
    " \n",
    "        gray = cv2.cvtColor(frame, cv2.COLOR_BGR2GRAY)\n",
    "        faces = face_cascade.detectMultiScale(gray,1.3, 5)\n",
    " \n",
    "        faces = face_cascade.detectMultiScale(gray, 1.3, 5)\n",
    " \n",
    "        #카메라 영상 왼쪽위에 위에 셋팅된 info 의 내용 출력\n",
    "        cv2.putText(frame, info, (5,15), font, 0.5, (255,0, 255),1)\n",
    " \n",
    "        for(x,y, w,h) in faces:\n",
    "            cv2.rectangle(frame, (x,y), (x+w, y+h), (255,0,0), 2)  #사각형 범위\n",
    "            cv2.putText(frame, \"Detected Face\", (x-5, y-5), font, 0.5, (255,255,0),2)  #얼굴찾았다는 메시지\n",
    "            if eye_detect:  #눈찾기\n",
    "                roi_gray = gray[y:y+h, x:x+w]\n",
    "                roi_color = frame[y:y+h, x:x+w]\n",
    "                eyes = eye_cascade.detectMultiScale(roi_gray)\n",
    "                for (ex,ey,ew,eh) in eyes:\n",
    "                    cv2.rectangle(roi_color, (ex, ey), (ex+ew, ey+eh), (0,255,0), 2)\n",
    " \n",
    "        cv2.imshow(\"frame\", frame)\n",
    "        k=cv2.waitKey(30)\n",
    " \n",
    "        #실행 중 키보드 i 를 누르면 눈찾기를 on, off한다.\n",
    "        if k == ord('i'):\n",
    "            eye_detect = not eye_detect\n",
    "        if k == 27:\n",
    "            break\n",
    "    cam.release()\n",
    "    cv2.destroyAllWindows()\n",
    " \n",
    "faceDetect()"
   ]
  },
  {
   "cell_type": "markdown",
   "id": "03471c0a",
   "metadata": {},
   "source": [
    "## 모자이크 처리"
   ]
  },
  {
   "cell_type": "code",
   "execution_count": 57,
   "id": "bc5dacbd",
   "metadata": {},
   "outputs": [],
   "source": [
    "import cv2\n",
    "\n",
    "face_cascade = cv2.CascadeClassifier('haarcascade_frontface.xml')\n",
    "src = cv2.imread('sample.png')\n",
    "src_gray = cv2.cvtColor(src, cv2.COLOR_BGR2GRAY)\n",
    "faces = face_cascade.detectMultiScale(src_gray)\n",
    "ratio = 0.05\n",
    "\n",
    "for x, y, w, h in faces:\n",
    "    small = cv2.resize(src[y: y + h, x: x + w], None, fx=ratio, fy=ratio, interpolation=cv2.INTER_NEAREST)\n",
    "    src[y: y + h, x: x + w] = cv2.resize(small, (w, h), interpolation=cv2.INTER_NEAREST)"
   ]
  },
  {
   "cell_type": "code",
   "execution_count": 58,
   "id": "315d1a74",
   "metadata": {},
   "outputs": [
    {
     "data": {
      "text/plain": [
       "True"
      ]
     },
     "execution_count": 58,
     "metadata": {},
     "output_type": "execute_result"
    }
   ],
   "source": [
    "cv2.imwrite('face_mosaic1.jpg', src)"
   ]
  },
  {
   "cell_type": "code",
   "execution_count": 12,
   "id": "e07b178b",
   "metadata": {},
   "outputs": [],
   "source": [
    "import cv2\n",
    "\n",
    "#객체 검출을 위한 분류기 클래스\n",
    "#검출된 객체는 cv::Rect형 목록으로 반환됩니다. 여기서 입력 영상(image)은 CV_8U 타입의 매트릭스여야 합니다.\n",
    "\n",
    "face_cascade = cv2.CascadeClassifier('haarcascade_frontface.xml')\n",
    "src = cv2.imread('sample.PNG')\n",
    "src_gray = cv2.cvtColor(src, cv2.COLOR_BGR2GRAY)\n",
    "faces = face_cascade.detectMultiScale(src_gray)\n",
    "ratio = 0.1\n",
    "\n",
    "for x, y, w, h in faces:\n",
    "    small = cv2.resize(src[y: y + h, x: x + w], None, fx=ratio, fy=ratio, interpolation=cv2.INTER_NEAREST)\n",
    "    src[y: y + h, x: x + w] = cv2.resize(small, (w, h), interpolation=cv2.INTER_NEAREST)"
   ]
  },
  {
   "cell_type": "code",
   "execution_count": 13,
   "id": "270db625",
   "metadata": {},
   "outputs": [
    {
     "data": {
      "text/plain": [
       "True"
      ]
     },
     "execution_count": 13,
     "metadata": {},
     "output_type": "execute_result"
    }
   ],
   "source": [
    "cv2.imwrite('face_mosaic77.jpg', src)"
   ]
  },
  {
   "cell_type": "markdown",
   "id": "84ee68c7",
   "metadata": {},
   "source": [
    "#### https://m.blog.naver.com/PostView.naver?isHttpsRedirect=true&blogId=infoefficien&logNo=220925934179"
   ]
  },
  {
   "cell_type": "code",
   "execution_count": null,
   "id": "66612ab0",
   "metadata": {},
   "outputs": [],
   "source": []
  }
 ],
 "metadata": {
  "kernelspec": {
   "display_name": "Python 3",
   "language": "python",
   "name": "python3"
  },
  "language_info": {
   "codemirror_mode": {
    "name": "ipython",
    "version": 3
   },
   "file_extension": ".py",
   "mimetype": "text/x-python",
   "name": "python",
   "nbconvert_exporter": "python",
   "pygments_lexer": "ipython3",
   "version": "3.8.8"
  }
 },
 "nbformat": 4,
 "nbformat_minor": 5
}
