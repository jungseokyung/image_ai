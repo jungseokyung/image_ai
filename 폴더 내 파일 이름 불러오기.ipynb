{
 "cells": [
  {
   "cell_type": "code",
   "execution_count": 1,
   "id": "3064596f",
   "metadata": {},
   "outputs": [
    {
     "name": "stdout",
     "output_type": "stream",
     "text": [
      "['.ipynb_checkpoints', 'facenet.py', 'faces.PNG', 'face_mosaic1.jpg', 'face_mosaic3.jpg', 'face_mosaic4.jpg', 'face_mosaic5.jpg', 'face_mosaic6.jpg', 'face_mosaic7.jpg', 'fourface.PNG', 'haarcascade_eye.xml', 'haarcascade_frontalface_alt.xml', 'haarcascade_frontalface_default.xml', 'haarcascade_frontface.xml', 'image-8.png', 'mask.PNG', 'mask_front.PNG', 'sample.jpg', 'sample.png', 'six_faces.PNG', 'sunglasses.PNG', 'tree.jpg', 'Untitled1.ipynb', 'wear_glasses.PNG', '얼굴없는경우 오류.ipynb', '얼굴여러개인식해서 모자이크처리.ipynb', '얼굴여러개테스트_잘됨.ipynb', '얼굴인식1개_png파일.ipynb', '얼굴인식_오바마1개jpg파일.ipynb', '폴더 내 파일 이름 불러오기.ipynb']\n",
      "['faces.PNG', 'face_mosaic1.jpg', 'face_mosaic3.jpg', 'face_mosaic4.jpg', 'face_mosaic5.jpg', 'face_mosaic6.jpg', 'face_mosaic7.jpg', 'fourface.PNG', 'image-8.png', 'mask.PNG', 'mask_front.PNG', 'sample.jpg', 'sample.png', 'six_faces.PNG', 'sunglasses.PNG', 'tree.jpg', 'wear_glasses.PNG']\n",
      "17\n"
     ]
    }
   ],
   "source": [
    "import os\n",
    "\n",
    "path_dir='C:/Users/정서경/anaconda3/OpenCV'\n",
    "\n",
    "file_list = os.listdir(path_dir)\n",
    "print(file_list)\n",
    "img_file=[]\n",
    "count=0\n",
    "\n",
    "for data in file_list : \n",
    "#     print(os.path.splitext(data))\n",
    "    file_type=os.path.splitext(data)\n",
    "#     print(file_type)\n",
    "    \n",
    "    if file_type[1] == '.jpg' or file_type[1]=='.png' or  file_type[1] == '.JPG' or file_type[1]=='.PNG':\n",
    "        img_file.append(file_type[0]+file_type[1])\n",
    "        count+=1\n",
    "\n",
    "print(img_file)\n",
    "print(count)\n"
   ]
  },
  {
   "cell_type": "markdown",
   "id": "97563f58",
   "metadata": {},
   "source": [
    "#### get_file_list(폴더경로)   return 이미지파일 리스트"
   ]
  },
  {
   "cell_type": "code",
   "execution_count": 2,
   "id": "e393ca05",
   "metadata": {},
   "outputs": [],
   "source": [
    "#img 확장자 jpg, png \n",
    "\n",
    "def get_file_list(path_dir):\n",
    "    \n",
    "    import os\n",
    "\n",
    "#     path_dir='C:/Users/정서경/anaconda3'\n",
    "\n",
    "    file_list = os.listdir(path_dir)\n",
    "    img_file=[]\n",
    "    count=0\n",
    "\n",
    "    for data in file_list : \n",
    "        file_type=os.path.splitext(data)\n",
    "\n",
    "        if file_type[1] == '.jpg' or file_type[1]=='.png' or  file_type[1] == '.JPG' or file_type[1]=='.PNG':\n",
    "            img_file.append(file_type[0]+file_type[1])\n",
    "            count+=1\n",
    "            \n",
    "    return img_file"
   ]
  },
  {
   "cell_type": "code",
   "execution_count": 3,
   "id": "41e43c48",
   "metadata": {},
   "outputs": [
    {
     "name": "stdout",
     "output_type": "stream",
     "text": [
      "['.ipynb_checkpoints', 'facenet.py', 'faces.PNG', 'face_mosaic1.jpg', 'face_mosaic3.jpg', 'face_mosaic4.jpg', 'face_mosaic5.jpg', 'face_mosaic6.jpg', 'face_mosaic7.jpg', 'fourface.PNG', 'haarcascade_eye.xml', 'haarcascade_frontalface_alt.xml', 'haarcascade_frontalface_default.xml', 'haarcascade_frontface.xml', 'image-8.png', 'mask.PNG', 'mask_front.PNG', 'sample.jpg', 'sample.png', 'six_faces.PNG', 'sunglasses.PNG', 'tree.jpg', 'Untitled1.ipynb', 'wear_glasses.PNG', '얼굴없는경우 오류.ipynb', '얼굴여러개인식해서 모자이크처리.ipynb', '얼굴여러개테스트_잘됨.ipynb', '얼굴인식1개_png파일.ipynb', '얼굴인식_오바마1개jpg파일.ipynb', '폴더 내 파일 이름 불러오기.ipynb']\n"
     ]
    }
   ],
   "source": [
    "print((file_list))"
   ]
  },
  {
   "cell_type": "code",
   "execution_count": 4,
   "id": "14e2af62",
   "metadata": {},
   "outputs": [],
   "source": [
    "def face_mosaic_from_foler(path_dir):\n",
    "    import os\n",
    "    import cv2\n",
    "#     path_dir='C:/Users/정서경/anaconda3'\n",
    "    file_list=get_file_list(path_dir) #이미지 파일 리스트\n",
    "\n",
    "    face_cascade = cv2.CascadeClassifier('haarcascade_frontface.xml')\n",
    "\n",
    "    for file in file_list:\n",
    "\n",
    "        src = cv2.imread(file)\n",
    "        src_gray = cv2.cvtColor(src, cv2.COLOR_BGR2GRAY)\n",
    "        faces = face_cascade.detectMultiScale(src_gray)\n",
    "        ratio = 0.1\n",
    "\n",
    "        for x, y, w, h in faces:\n",
    "            small = cv2.resize(src[y: y + h, x: x + w], None, fx=ratio, fy=ratio, interpolation=cv2.INTER_NEAREST)\n",
    "            src[y: y + h, x: x + w] = cv2.resize(small, (w, h), interpolation=cv2.INTER_NEAREST)\n",
    "    \n",
    "    #cv2.imwrite('face_mosaic7.jpg', src)\n",
    "    #파일명 겹침..!!!\n",
    "    \n",
    "            #창 띄우기 - 안됨?\n",
    "#         cv2.imshow('img',img)\n",
    "#         cv2.waitKey(0)\n",
    "#         cv2.destroyAllWindows()    "
   ]
  },
  {
   "cell_type": "code",
   "execution_count": 6,
   "id": "8ef04fc9",
   "metadata": {},
   "outputs": [],
   "source": [
    "face_mosaic_from_foler('C:/Users/정서경/anaconda3/OpenCV')"
   ]
  },
  {
   "cell_type": "markdown",
   "id": "aabbc93a",
   "metadata": {},
   "source": [
    "### 폴더 내의 경로 불러와서 이미지파일에서 얼굴 모자이크 처리"
   ]
  },
  {
   "cell_type": "code",
   "execution_count": null,
   "id": "ad738e1a",
   "metadata": {},
   "outputs": [],
   "source": [
    "def face_mosaic(file_path,file_name,ratio,model_path,model_name): \n",
    "     # str , int , str\n",
    "    \n",
    "    import cv2\n",
    "\n",
    "    face_cascade = cv2.CascadeClassifier(model_path+'/'+model_name)   #'haarcascade_frontface.xml'\n",
    "    src = cv2.imread(file_path+'/'+file_name) #'sample.png'\n",
    "    src_gray = cv2.cvtColor(src, cv2.COLOR_BGR2GRAY)\n",
    "    faces = face_cascade.detectMultiScale(src_gray)\n",
    "    ratio = 0.05\n",
    "\n",
    "    for x, y, w, h in faces:\n",
    "        small = cv2.resize(src[y: y + h, x: x + w], None, fx=ratio, fy=ratio, interpolation=cv2.INTER_NEAREST)\n",
    "        src[y: y + h, x: x + w] = cv2.resize(small, (w, h), interpolation=cv2.INTER_NEAREST)"
   ]
  },
  {
   "cell_type": "markdown",
   "id": "100e458a",
   "metadata": {},
   "source": [
    "### 파일로 뱉거나"
   ]
  },
  {
   "cell_type": "code",
   "execution_count": null,
   "id": "435c0c87",
   "metadata": {},
   "outputs": [],
   "source": [
    "cv2.imwrite('face_mosaic7.jpg', src)"
   ]
  },
  {
   "cell_type": "markdown",
   "id": "b929635a",
   "metadata": {},
   "source": [
    "### 새로운 창을 띄워서"
   ]
  },
  {
   "cell_type": "code",
   "execution_count": null,
   "id": "cdf6a1e7",
   "metadata": {},
   "outputs": [],
   "source": [
    "cv2.imshow('img',img)\n",
    "cv2.waitKey(0)\n",
    "cv2.destroyAllWindows()"
   ]
  }
 ],
 "metadata": {
  "kernelspec": {
   "display_name": "Python 3",
   "language": "python",
   "name": "python3"
  },
  "language_info": {
   "codemirror_mode": {
    "name": "ipython",
    "version": 3
   },
   "file_extension": ".py",
   "mimetype": "text/x-python",
   "name": "python",
   "nbconvert_exporter": "python",
   "pygments_lexer": "ipython3",
   "version": "3.8.8"
  }
 },
 "nbformat": 4,
 "nbformat_minor": 5
}
